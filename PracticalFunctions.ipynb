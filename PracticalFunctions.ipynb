{
 "cells": [
  {
   "cell_type": "code",
   "execution_count": 1,
   "id": "88313456-d884-441d-9ca9-fc75479b83bb",
   "metadata": {},
   "outputs": [],
   "source": [
    "def dvideNumber (number):\n",
    "    return number / 2 "
   ]
  },
  {
   "cell_type": "code",
   "execution_count": 2,
   "id": "0dd879f7-8c21-4091-aa72-fd4e89a7cfe3",
   "metadata": {},
   "outputs": [
    {
     "data": {
      "text/plain": [
       "10.0"
      ]
     },
     "execution_count": 2,
     "metadata": {},
     "output_type": "execute_result"
    }
   ],
   "source": [
    "dvideNumber(20)"
   ]
  },
  {
   "cell_type": "code",
   "execution_count": 3,
   "id": "be3ad768-3425-4598-9402-0d337230dd1c",
   "metadata": {},
   "outputs": [],
   "source": [
    "myList = [3,5,7,10,20,30]"
   ]
  },
  {
   "cell_type": "code",
   "execution_count": 4,
   "id": "b1a446dd-fc52-405d-88ed-cd6759c2ee21",
   "metadata": {},
   "outputs": [
    {
     "name": "stdout",
     "output_type": "stream",
     "text": [
      "[1.5, 2.5, 3.5, 5.0, 10.0, 15.0]\n"
     ]
    }
   ],
   "source": [
    "myResultList = []\n",
    "for num in myList:\n",
    "    myResultList.append(dvideNumber(num))\n",
    "print (myResultList)"
   ]
  },
  {
   "cell_type": "code",
   "execution_count": 5,
   "id": "351758c9-d599-4969-ab63-61495b66da41",
   "metadata": {},
   "outputs": [],
   "source": [
    "#map"
   ]
  },
  {
   "cell_type": "code",
   "execution_count": 6,
   "id": "329ef2f9-253f-49a7-8cc2-1da46582397c",
   "metadata": {},
   "outputs": [
    {
     "data": {
      "text/plain": [
       "[1.5, 2.5, 3.5, 5.0, 10.0, 15.0]"
      ]
     },
     "execution_count": 6,
     "metadata": {},
     "output_type": "execute_result"
    }
   ],
   "source": [
    "list(map(dvideNumber, myList))"
   ]
  },
  {
   "cell_type": "code",
   "execution_count": 7,
   "id": "536a8a78-e008-455b-a163-95e0187e7437",
   "metadata": {},
   "outputs": [],
   "source": [
    "def controlString(string):\n",
    "    return \"murad\" in string"
   ]
  },
  {
   "cell_type": "code",
   "execution_count": 8,
   "id": "19dd2b12-ee25-4de8-96ce-965b62279330",
   "metadata": {},
   "outputs": [
    {
     "data": {
      "text/plain": [
       "True"
      ]
     },
     "execution_count": 8,
     "metadata": {},
     "output_type": "execute_result"
    }
   ],
   "source": [
    "controlString(\"murad mahmudov\")"
   ]
  },
  {
   "cell_type": "code",
   "execution_count": 9,
   "id": "4f0762f5-06c4-422a-96d2-6c150f638a52",
   "metadata": {},
   "outputs": [
    {
     "data": {
      "text/plain": [
       "False"
      ]
     },
     "execution_count": 9,
     "metadata": {},
     "output_type": "execute_result"
    }
   ],
   "source": [
    "controlString(\"mahmudov\")"
   ]
  },
  {
   "cell_type": "code",
   "execution_count": 10,
   "id": "906e2ec8-34b5-4ab2-8141-5be4671bae0a",
   "metadata": {},
   "outputs": [],
   "source": [
    "myStringList = [\"murad\", \"mahmudov\", \"murad mahmudov\", \"atlas\"]"
   ]
  },
  {
   "cell_type": "code",
   "execution_count": 11,
   "id": "e759d332-075b-4482-b714-9a4cb4382422",
   "metadata": {},
   "outputs": [
    {
     "data": {
      "text/plain": [
       "[True, False, True, False]"
      ]
     },
     "execution_count": 11,
     "metadata": {},
     "output_type": "execute_result"
    }
   ],
   "source": [
    "list(map(controlString, myStringList))"
   ]
  },
  {
   "cell_type": "code",
   "execution_count": 12,
   "id": "860d57dc-2e86-4f69-a0bb-d74c3f5776fc",
   "metadata": {},
   "outputs": [],
   "source": [
    "#filter"
   ]
  },
  {
   "cell_type": "code",
   "execution_count": 13,
   "id": "debeae0c-325f-4b84-8dfd-7735c16fe6b5",
   "metadata": {},
   "outputs": [
    {
     "data": {
      "text/plain": [
       "['murad', 'murad mahmudov']"
      ]
     },
     "execution_count": 13,
     "metadata": {},
     "output_type": "execute_result"
    }
   ],
   "source": [
    "list(filter(controlString, myStringList))"
   ]
  },
  {
   "cell_type": "code",
   "execution_count": 14,
   "id": "6f5173ab-c052-40b9-81f9-23334f6b5fc1",
   "metadata": {},
   "outputs": [],
   "source": [
    "#lambda"
   ]
  },
  {
   "cell_type": "code",
   "execution_count": 15,
   "id": "92671966-e019-4c51-b56c-2047bccb7231",
   "metadata": {},
   "outputs": [],
   "source": [
    "multiplayLambda = lambda num : num * 3"
   ]
  },
  {
   "cell_type": "code",
   "execution_count": 16,
   "id": "98e0b49b-bb03-418b-858c-ab9a528d2397",
   "metadata": {},
   "outputs": [
    {
     "data": {
      "text/plain": [
       "60"
      ]
     },
     "execution_count": 16,
     "metadata": {},
     "output_type": "execute_result"
    }
   ],
   "source": [
    "multiplayLambda(20)"
   ]
  },
  {
   "cell_type": "code",
   "execution_count": 17,
   "id": "7281ae6d-c1af-4104-a359-6061a01f03fc",
   "metadata": {},
   "outputs": [],
   "source": [
    "result = multiplayLambda(10)"
   ]
  },
  {
   "cell_type": "code",
   "execution_count": 18,
   "id": "3f0fd7b5-94b3-45d0-836a-ab0dfc5279dc",
   "metadata": {},
   "outputs": [
    {
     "data": {
      "text/plain": [
       "30"
      ]
     },
     "execution_count": 18,
     "metadata": {},
     "output_type": "execute_result"
    }
   ],
   "source": [
    "result"
   ]
  },
  {
   "cell_type": "code",
   "execution_count": 19,
   "id": "15c3fe0c-4d24-4dac-9842-818118c2b235",
   "metadata": {},
   "outputs": [],
   "source": [
    "numList = [10,20,30,40,50]"
   ]
  },
  {
   "cell_type": "code",
   "execution_count": 21,
   "id": "32bd0372-3091-43fd-bb82-da80ff160ca0",
   "metadata": {},
   "outputs": [
    {
     "data": {
      "text/plain": [
       "[2.5, 5.0, 7.5, 10.0, 12.5]"
      ]
     },
     "execution_count": 21,
     "metadata": {},
     "output_type": "execute_result"
    }
   ],
   "source": [
    "list(map(lambda num:num/4,numList))"
   ]
  },
  {
   "cell_type": "code",
   "execution_count": 27,
   "id": "43b1aa17-4b43-429b-93f3-4bbd63510428",
   "metadata": {},
   "outputs": [],
   "source": [
    "#scope\n",
    "x = 20\n",
    "\n",
    "def multiplay (num):\n",
    "    x = 5\n",
    "    return num * x"
   ]
  },
  {
   "cell_type": "code",
   "execution_count": 28,
   "id": "e71e0514-0d8a-4c20-8369-172b2613c065",
   "metadata": {},
   "outputs": [
    {
     "data": {
      "text/plain": [
       "50"
      ]
     },
     "execution_count": 28,
     "metadata": {},
     "output_type": "execute_result"
    }
   ],
   "source": [
    "multiplay(10)"
   ]
  },
  {
   "cell_type": "code",
   "execution_count": 29,
   "id": "246a7f14-7ace-4e6e-9b95-ec5f8ffe837b",
   "metadata": {},
   "outputs": [
    {
     "name": "stdout",
     "output_type": "stream",
     "text": [
      "20\n"
     ]
    }
   ],
   "source": [
    "print(x)"
   ]
  },
  {
   "cell_type": "code",
   "execution_count": 30,
   "id": "f9e1a76b-c345-4c4a-ad4c-b5ecd5c9fee4",
   "metadata": {},
   "outputs": [],
   "source": [
    "x = 20\n",
    "\n",
    "def multiplay (num):\n",
    "    return num * x"
   ]
  },
  {
   "cell_type": "code",
   "execution_count": 31,
   "id": "fbbddc31-ec64-48c2-b848-d15671cc0702",
   "metadata": {},
   "outputs": [
    {
     "data": {
      "text/plain": [
       "200"
      ]
     },
     "execution_count": 31,
     "metadata": {},
     "output_type": "execute_result"
    }
   ],
   "source": [
    "multiplay(10)"
   ]
  },
  {
   "cell_type": "code",
   "execution_count": 32,
   "id": "2c3a7f97-c97c-4b9b-86b3-85f0ba58125a",
   "metadata": {},
   "outputs": [],
   "source": [
    "#LEGB LOCAL, ENCLOSING, GLOBAL, BUILT-IN"
   ]
  },
  {
   "cell_type": "code",
   "execution_count": 50,
   "id": "2f4c33f7-28a4-47b9-b50c-1af16db99a78",
   "metadata": {},
   "outputs": [],
   "source": [
    "myString = \"Murad\"\n",
    "    #Global\n",
    "\n",
    "def myFunction():\n",
    "    #enclosing\n",
    "    myString = \"Murad 2\"\n",
    "    print(myString)\n",
    "\n",
    "    def myFunction2():\n",
    "        #Local\n",
    "        myString = \"Murad 3\"\n",
    "        print(myString)\n",
    "\n",
    "    \n",
    "    myFunction2()"
   ]
  },
  {
   "cell_type": "code",
   "execution_count": 51,
   "id": "84956048-dc05-4308-b958-875baadae3e8",
   "metadata": {},
   "outputs": [
    {
     "data": {
      "text/plain": [
       "'Murad'"
      ]
     },
     "execution_count": 51,
     "metadata": {},
     "output_type": "execute_result"
    }
   ],
   "source": [
    "myString"
   ]
  },
  {
   "cell_type": "code",
   "execution_count": 52,
   "id": "8a5d2185-7005-4273-9439-2b3c62b18949",
   "metadata": {},
   "outputs": [
    {
     "name": "stdout",
     "output_type": "stream",
     "text": [
      "Murad 2\n",
      "Murad 3\n"
     ]
    }
   ],
   "source": [
    "myFunction()"
   ]
  },
  {
   "cell_type": "code",
   "execution_count": 3,
   "id": "c095ea9e-4640-4e8b-9641-3c6fbc6b9d1b",
   "metadata": {},
   "outputs": [],
   "source": [
    "myVeriable = 10\n",
    "def test1():\n",
    "    print(myVeriable * 2)\n",
    "def test2 ():\n",
    "    print(myVeriable * 3)"
   ]
  },
  {
   "cell_type": "code",
   "execution_count": 4,
   "id": "22f2345c-5191-4e04-be30-8dfbf6e39a4b",
   "metadata": {},
   "outputs": [
    {
     "name": "stdout",
     "output_type": "stream",
     "text": [
      "20\n"
     ]
    }
   ],
   "source": [
    "test1()"
   ]
  },
  {
   "cell_type": "code",
   "execution_count": 5,
   "id": "35989150-89d4-4943-ae00-c12e30e0cf9b",
   "metadata": {},
   "outputs": [
    {
     "name": "stdout",
     "output_type": "stream",
     "text": [
      "30\n"
     ]
    }
   ],
   "source": [
    "test2()"
   ]
  },
  {
   "cell_type": "code",
   "execution_count": 7,
   "id": "c1bb9242-ff30-4eca-ab91-5bb91db0a42f",
   "metadata": {},
   "outputs": [],
   "source": [
    "y = 10\n",
    "def newFunction(y):\n",
    "    print(y)\n",
    "    y = 5\n",
    "    print(y)\n",
    "    return y"
   ]
  },
  {
   "cell_type": "code",
   "execution_count": 9,
   "id": "2adbacb5-ba5d-492a-b9ae-4dddcb6f9cab",
   "metadata": {},
   "outputs": [
    {
     "name": "stdout",
     "output_type": "stream",
     "text": [
      "10\n",
      "5\n"
     ]
    },
    {
     "data": {
      "text/plain": [
       "5"
      ]
     },
     "execution_count": 9,
     "metadata": {},
     "output_type": "execute_result"
    }
   ],
   "source": [
    "newFunction(10)"
   ]
  },
  {
   "cell_type": "code",
   "execution_count": 10,
   "id": "ffce5c56-79c5-403c-bdad-3c42ef7a1b99",
   "metadata": {},
   "outputs": [
    {
     "data": {
      "text/plain": [
       "10"
      ]
     },
     "execution_count": 10,
     "metadata": {},
     "output_type": "execute_result"
    }
   ],
   "source": [
    "y"
   ]
  },
  {
   "cell_type": "code",
   "execution_count": 12,
   "id": "1fc0df86-31d7-42c8-a49e-bb9842e1ac4f",
   "metadata": {},
   "outputs": [],
   "source": [
    "y = 10\n",
    "\n",
    "def changeY():\n",
    "    global y \n",
    "    y = 5 \n",
    "    print(y)"
   ]
  },
  {
   "cell_type": "code",
   "execution_count": 13,
   "id": "0047c587-c72b-42ae-a437-49b5dfa37690",
   "metadata": {},
   "outputs": [
    {
     "name": "stdout",
     "output_type": "stream",
     "text": [
      "5\n"
     ]
    }
   ],
   "source": [
    "changeY()"
   ]
  },
  {
   "cell_type": "code",
   "execution_count": 14,
   "id": "a75ec3b4-5a6a-492e-b935-751236d46195",
   "metadata": {},
   "outputs": [
    {
     "data": {
      "text/plain": [
       "5"
      ]
     },
     "execution_count": 14,
     "metadata": {},
     "output_type": "execute_result"
    }
   ],
   "source": [
    "y"
   ]
  },
  {
   "cell_type": "code",
   "execution_count": null,
   "id": "23698c44-8672-4080-8ad4-ab93102ec738",
   "metadata": {},
   "outputs": [],
   "source": []
  }
 ],
 "metadata": {
  "kernelspec": {
   "display_name": "Python 3 (ipykernel)",
   "language": "python",
   "name": "python3"
  },
  "language_info": {
   "codemirror_mode": {
    "name": "ipython",
    "version": 3
   },
   "file_extension": ".py",
   "mimetype": "text/x-python",
   "name": "python",
   "nbconvert_exporter": "python",
   "pygments_lexer": "ipython3",
   "version": "3.12.7"
  }
 },
 "nbformat": 4,
 "nbformat_minor": 5
}
