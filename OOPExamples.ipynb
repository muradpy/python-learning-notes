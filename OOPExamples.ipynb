{
 "cells": [
  {
   "cell_type": "code",
   "execution_count": 1,
   "id": "7ee24edf-20e3-4369-a07f-9a75b92d8f9e",
   "metadata": {},
   "outputs": [],
   "source": [
    "#inheritance"
   ]
  },
  {
   "cell_type": "code",
   "execution_count": 2,
   "id": "878e8080-1fde-4275-b24b-a1512ddfb435",
   "metadata": {},
   "outputs": [],
   "source": [
    "class Musician():\n",
    "\n",
    "    def __init__(self,name):\n",
    "        self.name = name\n",
    "        print(\"musician class\")\n",
    "\n",
    "    def test1(self):\n",
    "        print(\"test1\")\n",
    "\n",
    "    def test2(self):\n",
    "        print(\"test2\")"
   ]
  },
  {
   "cell_type": "code",
   "execution_count": 3,
   "id": "5962b948-9176-4dee-8417-460503caf05d",
   "metadata": {},
   "outputs": [
    {
     "name": "stdout",
     "output_type": "stream",
     "text": [
      "musician class\n"
     ]
    }
   ],
   "source": [
    "murad = Musician(\"Murad\")"
   ]
  },
  {
   "cell_type": "code",
   "execution_count": 4,
   "id": "a06f91c6-0476-49f0-8a0d-b91f5c20dd57",
   "metadata": {},
   "outputs": [
    {
     "data": {
      "text/plain": [
       "'Murad'"
      ]
     },
     "execution_count": 4,
     "metadata": {},
     "output_type": "execute_result"
    }
   ],
   "source": [
    "murad.name"
   ]
  },
  {
   "cell_type": "code",
   "execution_count": 5,
   "id": "a7c79cd4-eb7e-4b1a-8cd2-92baf0373d78",
   "metadata": {},
   "outputs": [
    {
     "name": "stdout",
     "output_type": "stream",
     "text": [
      "test1\n"
     ]
    }
   ],
   "source": [
    "murad.test1()"
   ]
  },
  {
   "cell_type": "code",
   "execution_count": 6,
   "id": "3ddbebc8-d6df-4bbe-801d-1042881f0279",
   "metadata": {},
   "outputs": [
    {
     "name": "stdout",
     "output_type": "stream",
     "text": [
      "test2\n"
     ]
    }
   ],
   "source": [
    "murad.test2()"
   ]
  },
  {
   "cell_type": "code",
   "execution_count": 19,
   "id": "58ae28d2-e525-4da0-be8c-9106054d4094",
   "metadata": {},
   "outputs": [],
   "source": [
    "class MusicianPlus(Musician):\n",
    "\n",
    "    def __init__(self,name):\n",
    "        Musician.__init__(self,name)\n",
    "        print(\"musician plus\")\n",
    "\n",
    "    def test3(self):\n",
    "        print(\"test3\")\n",
    "        \n",
    "    #override\n",
    "    def test1(self):\n",
    "        print(\"test1 test1 test1\")"
   ]
  },
  {
   "cell_type": "code",
   "execution_count": 20,
   "id": "2cd276be-9216-4766-a786-eab9cfdf746a",
   "metadata": {},
   "outputs": [
    {
     "name": "stdout",
     "output_type": "stream",
     "text": [
      "musician class\n",
      "musician plus\n"
     ]
    }
   ],
   "source": [
    "mahmud = MusicianPlus(\"Mahmud\")"
   ]
  },
  {
   "cell_type": "code",
   "execution_count": 21,
   "id": "f5524b46-f595-4eb4-a033-8d555742ea90",
   "metadata": {},
   "outputs": [
    {
     "name": "stdout",
     "output_type": "stream",
     "text": [
      "test3\n"
     ]
    }
   ],
   "source": [
    "mahmud.test3()"
   ]
  },
  {
   "cell_type": "code",
   "execution_count": 22,
   "id": "34d38e6e-dbe3-40aa-abbd-6e3156d0b140",
   "metadata": {},
   "outputs": [
    {
     "name": "stdout",
     "output_type": "stream",
     "text": [
      "test1 test1 test1\n"
     ]
    }
   ],
   "source": [
    "mahmud.test1()"
   ]
  },
  {
   "cell_type": "code",
   "execution_count": 23,
   "id": "5e2d717d-f536-4f3c-98e3-31b4665b9c24",
   "metadata": {},
   "outputs": [],
   "source": [
    "#polymorphism"
   ]
  },
  {
   "cell_type": "code",
   "execution_count": 24,
   "id": "3ea20fc1-c353-4e19-9946-359ec61cf37e",
   "metadata": {},
   "outputs": [],
   "source": [
    "class Banana():\n",
    "\n",
    "    def __init__(self,name):\n",
    "        self.name = name\n",
    "\n",
    "    def info(self):\n",
    "        return f\"100 calories {self.name}\"\n",
    "\n",
    "class Apple():\n",
    "\n",
    "    def __init__(self,name):\n",
    "        self.name = name\n",
    "\n",
    "    def info(self):\n",
    "        return f\"150 calories {self.name}\""
   ]
  },
  {
   "cell_type": "code",
   "execution_count": 25,
   "id": "a3f222d7-9774-4def-9a58-7068ec5c763c",
   "metadata": {},
   "outputs": [],
   "source": [
    "banana = Banana(\"banana\")\n",
    "apple = Apple(\"apple\")"
   ]
  },
  {
   "cell_type": "code",
   "execution_count": 26,
   "id": "2b12d395-7536-40ab-9b99-21d62b5ea5cb",
   "metadata": {},
   "outputs": [
    {
     "data": {
      "text/plain": [
       "'100 calories banana'"
      ]
     },
     "execution_count": 26,
     "metadata": {},
     "output_type": "execute_result"
    }
   ],
   "source": [
    "banana.info()"
   ]
  },
  {
   "cell_type": "code",
   "execution_count": 27,
   "id": "94714091-2729-46c4-925b-77245a612665",
   "metadata": {},
   "outputs": [
    {
     "data": {
      "text/plain": [
       "'150 calories apple'"
      ]
     },
     "execution_count": 27,
     "metadata": {},
     "output_type": "execute_result"
    }
   ],
   "source": [
    "apple.info()"
   ]
  },
  {
   "cell_type": "code",
   "execution_count": 28,
   "id": "3aa2a23b-9d08-46af-930b-93f40da05ece",
   "metadata": {},
   "outputs": [],
   "source": [
    "fruitList = [banana, apple]"
   ]
  },
  {
   "cell_type": "code",
   "execution_count": 29,
   "id": "9a669aaf-8623-4a7d-b798-24ae056010cf",
   "metadata": {},
   "outputs": [
    {
     "name": "stdout",
     "output_type": "stream",
     "text": [
      "100 calories banana\n",
      "150 calories apple\n"
     ]
    }
   ],
   "source": [
    "for fruit in fruitList:\n",
    "    print(fruit.info())"
   ]
  },
  {
   "cell_type": "code",
   "execution_count": 1,
   "id": "7d6654f9-125b-41c5-8e66-bffcc5e9a395",
   "metadata": {},
   "outputs": [],
   "source": [
    "#encapsulation"
   ]
  },
  {
   "cell_type": "code",
   "execution_count": 9,
   "id": "2b3bdce7-286f-4686-ac45-de5e341b46ce",
   "metadata": {},
   "outputs": [],
   "source": [
    "class Phone():\n",
    "\n",
    "    def __init__(self,name,price):\n",
    "        self.name = name\n",
    "        self.__price = price\n",
    "\n",
    "    def info(self):\n",
    "        print(f\"{self.name} price is {self.__price}\")\n",
    "\n",
    "    def changePrice(self,price):\n",
    "        self.__price = price\n",
    "        \n",
    "        "
   ]
  },
  {
   "cell_type": "code",
   "execution_count": 10,
   "id": "fee0e16a-c9d6-4654-b6eb-c483bb94b619",
   "metadata": {},
   "outputs": [],
   "source": [
    "iphone = Phone (\"iPhone 14\", 500)"
   ]
  },
  {
   "cell_type": "code",
   "execution_count": 11,
   "id": "34d30016-2eb1-41d9-8fef-ae1b85a033f0",
   "metadata": {},
   "outputs": [
    {
     "name": "stdout",
     "output_type": "stream",
     "text": [
      "iPhone 14 price is 500\n"
     ]
    }
   ],
   "source": [
    "iphone.info()"
   ]
  },
  {
   "cell_type": "code",
   "execution_count": 12,
   "id": "ffc49a90-97f1-4701-9cce-eea146ec89e5",
   "metadata": {},
   "outputs": [],
   "source": [
    "iphone.__price = 400"
   ]
  },
  {
   "cell_type": "code",
   "execution_count": 13,
   "id": "92ba818e-2c12-4cb8-83eb-a0d7d136cc76",
   "metadata": {},
   "outputs": [
    {
     "name": "stdout",
     "output_type": "stream",
     "text": [
      "iPhone 14 price is 500\n"
     ]
    }
   ],
   "source": [
    "iphone.info()"
   ]
  },
  {
   "cell_type": "code",
   "execution_count": 14,
   "id": "ae10e7ad-a680-49ed-84c6-09a0fbf41cb0",
   "metadata": {},
   "outputs": [],
   "source": [
    "iphone.changePrice(300)"
   ]
  },
  {
   "cell_type": "code",
   "execution_count": 15,
   "id": "0bf01a55-a74e-4687-93fe-c3c794969a44",
   "metadata": {},
   "outputs": [
    {
     "name": "stdout",
     "output_type": "stream",
     "text": [
      "iPhone 14 price is 300\n"
     ]
    }
   ],
   "source": [
    "iphone.info()"
   ]
  },
  {
   "cell_type": "code",
   "execution_count": 16,
   "id": "191ce7b1-1fd8-4699-998b-76e5bdfea0bc",
   "metadata": {},
   "outputs": [],
   "source": [
    "#abstraction"
   ]
  },
  {
   "cell_type": "code",
   "execution_count": 18,
   "id": "cba869a4-2c37-4f0d-8799-0f33147318d5",
   "metadata": {},
   "outputs": [],
   "source": [
    "from abc import ABC, abstractmethod"
   ]
  },
  {
   "cell_type": "code",
   "execution_count": 19,
   "id": "b3f4110c-db84-4efb-a96f-aa18aa15e3e6",
   "metadata": {},
   "outputs": [],
   "source": [
    "class Car(ABC):\n",
    "\n",
    "    @abstractmethod\n",
    "    def maxSpeed():\n",
    "        pass"
   ]
  },
  {
   "cell_type": "code",
   "execution_count": 20,
   "id": "21560c9e-1158-456b-8185-fd696783d5e8",
   "metadata": {},
   "outputs": [],
   "source": [
    "class Tesla(Car):\n",
    "\n",
    "    def maxSpeed(self):\n",
    "        print(\"200km\")"
   ]
  },
  {
   "cell_type": "code",
   "execution_count": 21,
   "id": "d92546be-dec4-4da4-95b7-c1e54a26ac79",
   "metadata": {},
   "outputs": [],
   "source": [
    "tesla = Tesla()"
   ]
  },
  {
   "cell_type": "code",
   "execution_count": 23,
   "id": "0b61e02f-8bc8-4448-aab3-c23ee8b71f7a",
   "metadata": {},
   "outputs": [
    {
     "name": "stdout",
     "output_type": "stream",
     "text": [
      "200km\n"
     ]
    }
   ],
   "source": [
    "tesla.maxSpeed()"
   ]
  },
  {
   "cell_type": "code",
   "execution_count": null,
   "id": "fda75fdd-26ac-4522-8a94-0d5538472fbf",
   "metadata": {},
   "outputs": [],
   "source": []
  }
 ],
 "metadata": {
  "kernelspec": {
   "display_name": "Python 3 (ipykernel)",
   "language": "python",
   "name": "python3"
  },
  "language_info": {
   "codemirror_mode": {
    "name": "ipython",
    "version": 3
   },
   "file_extension": ".py",
   "mimetype": "text/x-python",
   "name": "python",
   "nbconvert_exporter": "python",
   "pygments_lexer": "ipython3",
   "version": "3.12.7"
  }
 },
 "nbformat": 4,
 "nbformat_minor": 5
}
