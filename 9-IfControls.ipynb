{
 "cells": [
  {
   "cell_type": "code",
   "execution_count": 1,
   "id": "ddf0661f-8a98-44f6-897e-bc23d8add2ca",
   "metadata": {},
   "outputs": [],
   "source": [
    "x = 5\n",
    "y = 2"
   ]
  },
  {
   "cell_type": "code",
   "execution_count": 2,
   "id": "a41cbadd-6379-45af-840d-a8031de28dfb",
   "metadata": {},
   "outputs": [
    {
     "data": {
      "text/plain": [
       "True"
      ]
     },
     "execution_count": 2,
     "metadata": {},
     "output_type": "execute_result"
    }
   ],
   "source": [
    "x > y"
   ]
  },
  {
   "cell_type": "code",
   "execution_count": 3,
   "id": "d8358853-dc73-4a33-8625-1b7e5f7ec71b",
   "metadata": {},
   "outputs": [
    {
     "data": {
      "text/plain": [
       "False"
      ]
     },
     "execution_count": 3,
     "metadata": {},
     "output_type": "execute_result"
    }
   ],
   "source": [
    "x < y"
   ]
  },
  {
   "cell_type": "code",
   "execution_count": 4,
   "id": "a6fb7951-2bc9-47c5-b5b8-717e5027e5b3",
   "metadata": {},
   "outputs": [],
   "source": [
    "y = 5"
   ]
  },
  {
   "cell_type": "code",
   "execution_count": 5,
   "id": "173b448e-aaff-4cf5-a45f-3f883d952235",
   "metadata": {},
   "outputs": [
    {
     "data": {
      "text/plain": [
       "True"
      ]
     },
     "execution_count": 5,
     "metadata": {},
     "output_type": "execute_result"
    }
   ],
   "source": [
    "x >= y"
   ]
  },
  {
   "cell_type": "code",
   "execution_count": 7,
   "id": "f02d753f-1626-4a19-8470-3baa80ae2605",
   "metadata": {},
   "outputs": [
    {
     "data": {
      "text/plain": [
       "True"
      ]
     },
     "execution_count": 7,
     "metadata": {},
     "output_type": "execute_result"
    }
   ],
   "source": [
    "x >= 5.0"
   ]
  },
  {
   "cell_type": "code",
   "execution_count": 8,
   "id": "72538ac5-ff7c-46b1-bc12-b0a7f9477447",
   "metadata": {},
   "outputs": [
    {
     "data": {
      "text/plain": [
       "False"
      ]
     },
     "execution_count": 8,
     "metadata": {},
     "output_type": "execute_result"
    }
   ],
   "source": [
    "x >= 5.001"
   ]
  },
  {
   "cell_type": "code",
   "execution_count": 9,
   "id": "b5ce6c74-14c6-48b0-aad6-e1f5811b02fa",
   "metadata": {},
   "outputs": [],
   "source": [
    "x = 10 \n",
    "y = 8"
   ]
  },
  {
   "cell_type": "code",
   "execution_count": 11,
   "id": "20667d41-e371-40f4-a608-967a1880347d",
   "metadata": {},
   "outputs": [
    {
     "data": {
      "text/plain": [
       "False"
      ]
     },
     "execution_count": 11,
     "metadata": {},
     "output_type": "execute_result"
    }
   ],
   "source": [
    "x == y"
   ]
  },
  {
   "cell_type": "code",
   "execution_count": 12,
   "id": "1932a2d3-9ba1-4509-bb8a-8d5a660ccfbf",
   "metadata": {},
   "outputs": [
    {
     "data": {
      "text/plain": [
       "True"
      ]
     },
     "execution_count": 12,
     "metadata": {},
     "output_type": "execute_result"
    }
   ],
   "source": [
    "x != y"
   ]
  },
  {
   "cell_type": "code",
   "execution_count": 13,
   "id": "6b396987-beb7-4388-9a3c-3793919df322",
   "metadata": {},
   "outputs": [
    {
     "data": {
      "text/plain": [
       "True"
      ]
     },
     "execution_count": 13,
     "metadata": {},
     "output_type": "execute_result"
    }
   ],
   "source": [
    "2 > 1 and 3 > 2"
   ]
  },
  {
   "cell_type": "code",
   "execution_count": 14,
   "id": "3927dad0-2bd5-4801-91cd-a772498747d5",
   "metadata": {},
   "outputs": [
    {
     "data": {
      "text/plain": [
       "False"
      ]
     },
     "execution_count": 14,
     "metadata": {},
     "output_type": "execute_result"
    }
   ],
   "source": [
    "2 > 1 and 3 < 2"
   ]
  },
  {
   "cell_type": "code",
   "execution_count": 15,
   "id": "4fd80442-c903-4bd2-b637-f307b7883ee7",
   "metadata": {},
   "outputs": [
    {
     "data": {
      "text/plain": [
       "True"
      ]
     },
     "execution_count": 15,
     "metadata": {},
     "output_type": "execute_result"
    }
   ],
   "source": [
    "2 > 1 or 3 < 2"
   ]
  },
  {
   "cell_type": "code",
   "execution_count": 16,
   "id": "f330d4bf-9216-45d0-9b97-de8186123a41",
   "metadata": {},
   "outputs": [
    {
     "data": {
      "text/plain": [
       "False"
      ]
     },
     "execution_count": 16,
     "metadata": {},
     "output_type": "execute_result"
    }
   ],
   "source": [
    "1 > 2 or 3 < 2"
   ]
  },
  {
   "cell_type": "code",
   "execution_count": 17,
   "id": "f44c22f1-5c74-4531-a456-4b9061c636b0",
   "metadata": {},
   "outputs": [
    {
     "data": {
      "text/plain": [
       "False"
      ]
     },
     "execution_count": 17,
     "metadata": {},
     "output_type": "execute_result"
    }
   ],
   "source": [
    "not 1 == 1"
   ]
  },
  {
   "cell_type": "code",
   "execution_count": 18,
   "id": "1456a573-e45b-4617-a7b3-bf23aff064f4",
   "metadata": {},
   "outputs": [
    {
     "data": {
      "text/plain": [
       "True"
      ]
     },
     "execution_count": 18,
     "metadata": {},
     "output_type": "execute_result"
    }
   ],
   "source": [
    "10 in [10,20,30]"
   ]
  },
  {
   "cell_type": "code",
   "execution_count": 19,
   "id": "e672ed4c-9bd7-4f49-91e4-545a43688d65",
   "metadata": {},
   "outputs": [
    {
     "data": {
      "text/plain": [
       "True"
      ]
     },
     "execution_count": 19,
     "metadata": {},
     "output_type": "execute_result"
    }
   ],
   "source": [
    "5 not in [10,20,30]"
   ]
  },
  {
   "cell_type": "code",
   "execution_count": 21,
   "id": "b47a6ae7-afcb-4548-b6c4-40418ac6b563",
   "metadata": {},
   "outputs": [],
   "source": [
    "my_dictionary =  {\"a\":10, \"b\":20, \"c\":30}"
   ]
  },
  {
   "cell_type": "code",
   "execution_count": 22,
   "id": "c9e68dc3-d674-47ad-b338-54c0bfa24c46",
   "metadata": {},
   "outputs": [
    {
     "data": {
      "text/plain": [
       "True"
      ]
     },
     "execution_count": 22,
     "metadata": {},
     "output_type": "execute_result"
    }
   ],
   "source": [
    "10 in my_dictionary.values()"
   ]
  },
  {
   "cell_type": "code",
   "execution_count": 25,
   "id": "3e511a3c-0cf5-4ab7-8a6c-41571c157f1d",
   "metadata": {},
   "outputs": [
    {
     "data": {
      "text/plain": [
       "True"
      ]
     },
     "execution_count": 25,
     "metadata": {},
     "output_type": "execute_result"
    }
   ],
   "source": [
    "\"b\" in my_dictionary.keys()"
   ]
  },
  {
   "cell_type": "code",
   "execution_count": 1,
   "id": "18c5f7bf-5805-4d97-9d67-d6fa41c99413",
   "metadata": {},
   "outputs": [],
   "source": [
    "my_superhero = \"Batman\""
   ]
  },
  {
   "cell_type": "code",
   "execution_count": 2,
   "id": "0b48a63c-4d17-4442-a341-aef7c2219f94",
   "metadata": {},
   "outputs": [
    {
     "data": {
      "text/plain": [
       "True"
      ]
     },
     "execution_count": 2,
     "metadata": {},
     "output_type": "execute_result"
    }
   ],
   "source": [
    "my_superhero == \"Batman\""
   ]
  },
  {
   "cell_type": "code",
   "execution_count": 3,
   "id": "b950dc44-a0b9-4d46-a15f-af23f54f5f92",
   "metadata": {},
   "outputs": [
    {
     "data": {
      "text/plain": [
       "False"
      ]
     },
     "execution_count": 3,
     "metadata": {},
     "output_type": "execute_result"
    }
   ],
   "source": [
    "my_superhero == \"Superman\""
   ]
  },
  {
   "cell_type": "code",
   "execution_count": 5,
   "id": "02717e12-c2ed-4cf2-8568-642cdb1b0192",
   "metadata": {},
   "outputs": [
    {
     "name": "stdout",
     "output_type": "stream",
     "text": [
      "Batmannn\n",
      "muard mahmudov\n"
     ]
    }
   ],
   "source": [
    "if my_superhero == \"Batman\":\n",
    "    #indentation\n",
    "    print(\"Batmannn\")\n",
    "    print(\"muard mahmudov\")"
   ]
  },
  {
   "cell_type": "code",
   "execution_count": 6,
   "id": "bcec80ae-f1c8-4bf2-9d0c-c0ea55f1e617",
   "metadata": {},
   "outputs": [
    {
     "name": "stdin",
     "output_type": "stream",
     "text": [
      "enter superhero: Superman\n"
     ]
    }
   ],
   "source": [
    "my_superhero = input(\"enter superhero:\")"
   ]
  },
  {
   "cell_type": "code",
   "execution_count": 8,
   "id": "34912a70-4cc1-472d-87a2-054c4b7c119f",
   "metadata": {},
   "outputs": [
    {
     "name": "stdout",
     "output_type": "stream",
     "text": [
      "Superman\n"
     ]
    }
   ],
   "source": [
    "if my_superhero == \"Superman\":\n",
    "    print(\"Superman\")\n",
    "elif my_superhero == \"Batman\":\n",
    "    print(\"Batman\")\n",
    "elif my_superhero == \"Aquaman\":\n",
    "    print(\"Aquaman\")\n",
    "elif my_superhero == \"Ironman\":\n",
    "    print(\"Ironman\")\n",
    "else:\n",
    "    print(\":(\")\n"
   ]
  },
  {
   "cell_type": "code",
   "execution_count": 9,
   "id": "1c75aa0a-80ba-46e5-a482-5fa0876d3a87",
   "metadata": {},
   "outputs": [],
   "source": [
    "my_age = 18"
   ]
  },
  {
   "cell_type": "code",
   "execution_count": 10,
   "id": "9d24db90-9788-4f7a-8ecd-175c89847894",
   "metadata": {},
   "outputs": [
    {
     "name": "stdout",
     "output_type": "stream",
     "text": [
      "age < 18\n"
     ]
    }
   ],
   "source": [
    "if my_age <= 18:\n",
    "    print(\"age < 18\")\n",
    "elif my_age > 18 and my_age <= 30:\n",
    "    print(\"18 - age - 30\")\n",
    "elif my_age > 30 and my_age <= 40:\n",
    "    print(\"30 - age - 40\")\n",
    "else:\n",
    "    print(\"age > 40\")\n"
   ]
  },
  {
   "cell_type": "code",
   "execution_count": 18,
   "id": "b1cbfc52-24df-4332-a59c-e11b1e803205",
   "metadata": {},
   "outputs": [
    {
     "name": "stdin",
     "output_type": "stream",
     "text": [
      "enter superhero: iron man\n"
     ]
    }
   ],
   "source": [
    "my_superhero = input(\"enter superhero:\")\n"
   ]
  },
  {
   "cell_type": "code",
   "execution_count": 19,
   "id": "4aa9b2e4-c512-4af0-b53f-0f0a41620198",
   "metadata": {},
   "outputs": [],
   "source": [
    "my_superhero_list = [\"spider man\", \"iron man\", \"thor\", \"black widow\"]"
   ]
  },
  {
   "cell_type": "code",
   "execution_count": 20,
   "id": "ab748c00-1032-45c0-9d27-3ffdb9acecb2",
   "metadata": {},
   "outputs": [
    {
     "name": "stdout",
     "output_type": "stream",
     "text": [
      ":)\n"
     ]
    }
   ],
   "source": [
    "if my_superhero in my_superhero_list:\n",
    "    print(\":)\")\n",
    "else:\n",
    "    print(\":(\")\n"
   ]
  },
  {
   "cell_type": "code",
   "execution_count": null,
   "id": "b43ce877-da3b-497b-8c67-91dee14d54e1",
   "metadata": {},
   "outputs": [],
   "source": []
  }
 ],
 "metadata": {
  "kernelspec": {
   "display_name": "Python 3 (ipykernel)",
   "language": "python",
   "name": "python3"
  },
  "language_info": {
   "codemirror_mode": {
    "name": "ipython",
    "version": 3
   },
   "file_extension": ".py",
   "mimetype": "text/x-python",
   "name": "python",
   "nbconvert_exporter": "python",
   "pygments_lexer": "ipython3",
   "version": "3.12.7"
  }
 },
 "nbformat": 4,
 "nbformat_minor": 5
}
