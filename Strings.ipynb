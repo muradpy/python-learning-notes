{
 "cells": [
  {
   "cell_type": "code",
   "execution_count": null,
   "id": "9334ab37-f0fe-4b69-9ff7-d425c240e79d",
   "metadata": {},
   "outputs": [],
   "source": [
    "\"hello world\""
   ]
  },
  {
   "cell_type": "code",
   "execution_count": 2,
   "id": "40c1457a-67ed-44c3-a67e-9395825ae68a",
   "metadata": {},
   "outputs": [
    {
     "name": "stdout",
     "output_type": "stream",
     "text": [
      "hello python\n"
     ]
    }
   ],
   "source": [
    "print(\"hello python\")"
   ]
  },
  {
   "cell_type": "code",
   "execution_count": 3,
   "id": "542071cb-cc6e-4827-9b1e-88ec033a1225",
   "metadata": {},
   "outputs": [],
   "source": [
    "name = \"murad\""
   ]
  },
  {
   "cell_type": "code",
   "execution_count": 4,
   "id": "458d5305-9374-4f49-bc06-96c5d4e23def",
   "metadata": {},
   "outputs": [
    {
     "data": {
      "text/plain": [
       "str"
      ]
     },
     "execution_count": 4,
     "metadata": {},
     "output_type": "execute_result"
    }
   ],
   "source": [
    "type(name)"
   ]
  },
  {
   "cell_type": "code",
   "execution_count": 5,
   "id": "b2528099-ca58-4089-ab08-9969a2801ae2",
   "metadata": {},
   "outputs": [],
   "source": [
    "name = \"murad\""
   ]
  },
  {
   "cell_type": "code",
   "execution_count": 6,
   "id": "accb4e99-8d38-4ea3-ad34-d331a534db0a",
   "metadata": {},
   "outputs": [],
   "source": [
    "name = \"murad mahmudov\""
   ]
  },
  {
   "cell_type": "code",
   "execution_count": 7,
   "id": "8bc01c8f-0e88-444c-afd8-e855ebf4391f",
   "metadata": {},
   "outputs": [
    {
     "data": {
      "text/plain": [
       "'Murad mahmudov'"
      ]
     },
     "execution_count": 7,
     "metadata": {},
     "output_type": "execute_result"
    }
   ],
   "source": [
    "name.capitalize()"
   ]
  },
  {
   "cell_type": "code",
   "execution_count": 8,
   "id": "3dfa087d-e109-4505-93d6-4d5a2b43c708",
   "metadata": {},
   "outputs": [],
   "source": [
    "x = 10"
   ]
  },
  {
   "cell_type": "code",
   "execution_count": 9,
   "id": "4db4f75d-6339-40fb-b38a-bfa469b2c457",
   "metadata": {},
   "outputs": [
    {
     "data": {
      "text/plain": [
       "2"
      ]
     },
     "execution_count": 9,
     "metadata": {},
     "output_type": "execute_result"
    }
   ],
   "source": [
    "name.count(\"a\")"
   ]
  },
  {
   "cell_type": "code",
   "execution_count": 11,
   "id": "1715d15e-3687-49e0-a12a-8ca9ba2ae203",
   "metadata": {},
   "outputs": [
    {
     "data": {
      "text/plain": [
       "'MURAD MAHMUDOV'"
      ]
     },
     "execution_count": 11,
     "metadata": {},
     "output_type": "execute_result"
    }
   ],
   "source": [
    "name.upper()"
   ]
  },
  {
   "cell_type": "code",
   "execution_count": 12,
   "id": "df120a1f-4c2a-4eaf-afc8-69f28de5427c",
   "metadata": {},
   "outputs": [],
   "source": [
    "nameUpper = name.upper()"
   ]
  },
  {
   "cell_type": "code",
   "execution_count": 13,
   "id": "3bc31eef-b898-42a7-8639-5b733be9f731",
   "metadata": {},
   "outputs": [
    {
     "data": {
      "text/plain": [
       "'MURAD MAHMUDOV'"
      ]
     },
     "execution_count": 13,
     "metadata": {},
     "output_type": "execute_result"
    }
   ],
   "source": [
    "nameUpper"
   ]
  },
  {
   "cell_type": "code",
   "execution_count": 14,
   "id": "a24e95d2-a8bf-434b-98f5-427fd7557628",
   "metadata": {},
   "outputs": [
    {
     "name": "stdout",
     "output_type": "stream",
     "text": [
      "MURAD MAHMUDOV\n"
     ]
    }
   ],
   "source": [
    "print(name.upper())"
   ]
  },
  {
   "cell_type": "code",
   "execution_count": 15,
   "id": "92c5c269-2c95-4628-ba3e-07eea1fe7238",
   "metadata": {},
   "outputs": [
    {
     "data": {
      "text/plain": [
       "14"
      ]
     },
     "execution_count": 15,
     "metadata": {},
     "output_type": "execute_result"
    }
   ],
   "source": [
    "len(name)"
   ]
  },
  {
   "cell_type": "code",
   "execution_count": 16,
   "id": "190d4e4e-c6f5-4e2f-81cb-e0a77362f27b",
   "metadata": {},
   "outputs": [
    {
     "name": "stdout",
     "output_type": "stream",
     "text": [
      "murad \n",
      "mahmudov\n"
     ]
    }
   ],
   "source": [
    "print(\"murad \\nmahmudov\")"
   ]
  },
  {
   "cell_type": "code",
   "execution_count": 17,
   "id": "736882db-0d43-4aee-b743-6aabedac33c8",
   "metadata": {},
   "outputs": [],
   "source": [
    "# \\n > new line"
   ]
  },
  {
   "cell_type": "code",
   "execution_count": 1,
   "id": "502c0c09-719d-4f9e-9d35-1b2e0358646a",
   "metadata": {},
   "outputs": [],
   "source": [
    "#index"
   ]
  },
  {
   "cell_type": "code",
   "execution_count": 2,
   "id": "479a275d-3192-4021-b1b0-b135b0949623",
   "metadata": {},
   "outputs": [],
   "source": [
    "myString = \"hello python\""
   ]
  },
  {
   "cell_type": "code",
   "execution_count": 3,
   "id": "1bf29c11-683a-4220-bdac-b5cb24395dbb",
   "metadata": {},
   "outputs": [
    {
     "data": {
      "text/plain": [
       "'o'"
      ]
     },
     "execution_count": 3,
     "metadata": {},
     "output_type": "execute_result"
    }
   ],
   "source": [
    "myString[4]"
   ]
  },
  {
   "cell_type": "code",
   "execution_count": 4,
   "id": "5b82a268-aa5c-4fb7-afe0-aefd3757aa8c",
   "metadata": {},
   "outputs": [
    {
     "data": {
      "text/plain": [
       "'y'"
      ]
     },
     "execution_count": 4,
     "metadata": {},
     "output_type": "execute_result"
    }
   ],
   "source": [
    "myString[7]"
   ]
  },
  {
   "cell_type": "code",
   "execution_count": 5,
   "id": "60ea708c-8828-40ca-96c5-0644a58e87e6",
   "metadata": {},
   "outputs": [
    {
     "data": {
      "text/plain": [
       "12"
      ]
     },
     "execution_count": 5,
     "metadata": {},
     "output_type": "execute_result"
    }
   ],
   "source": [
    "len(myString)"
   ]
  },
  {
   "cell_type": "code",
   "execution_count": 6,
   "id": "903f7640-c545-49eb-aa27-d7cc6f446a55",
   "metadata": {},
   "outputs": [
    {
     "data": {
      "text/plain": [
       "11"
      ]
     },
     "execution_count": 6,
     "metadata": {},
     "output_type": "execute_result"
    }
   ],
   "source": [
    "len(myString) - 1"
   ]
  },
  {
   "cell_type": "code",
   "execution_count": 7,
   "id": "bd5fa2c5-a60f-4d15-b849-c8b7c16a36c8",
   "metadata": {},
   "outputs": [],
   "source": [
    "myName = \"james hetfield\" "
   ]
  },
  {
   "cell_type": "code",
   "execution_count": 8,
   "id": "13ec1ec2-9de3-4b57-9af7-d2a17d8ebf9a",
   "metadata": {},
   "outputs": [
    {
     "data": {
      "text/plain": [
       "14"
      ]
     },
     "execution_count": 8,
     "metadata": {},
     "output_type": "execute_result"
    }
   ],
   "source": [
    "len(myName)"
   ]
  },
  {
   "cell_type": "code",
   "execution_count": 10,
   "id": "d519edf8-0676-4f7c-bbac-b3478cfa1fe6",
   "metadata": {},
   "outputs": [
    {
     "data": {
      "text/plain": [
       "13"
      ]
     },
     "execution_count": 10,
     "metadata": {},
     "output_type": "execute_result"
    }
   ],
   "source": [
    "len(myName) - 1"
   ]
  },
  {
   "cell_type": "code",
   "execution_count": 11,
   "id": "0789b11b-812c-4ee2-ac36-d649e8f8e283",
   "metadata": {},
   "outputs": [
    {
     "data": {
      "text/plain": [
       "'d'"
      ]
     },
     "execution_count": 11,
     "metadata": {},
     "output_type": "execute_result"
    }
   ],
   "source": [
    "myName[13]"
   ]
  },
  {
   "cell_type": "code",
   "execution_count": 12,
   "id": "f36bc335-c4e6-471f-a507-ce8d82625351",
   "metadata": {},
   "outputs": [
    {
     "data": {
      "text/plain": [
       "'d'"
      ]
     },
     "execution_count": 12,
     "metadata": {},
     "output_type": "execute_result"
    }
   ],
   "source": [
    "myName[len(myName) - 1]"
   ]
  },
  {
   "cell_type": "code",
   "execution_count": 13,
   "id": "bfe27371-69c2-483f-945e-46d1b7be5313",
   "metadata": {},
   "outputs": [
    {
     "data": {
      "text/plain": [
       "'d'"
      ]
     },
     "execution_count": 13,
     "metadata": {},
     "output_type": "execute_result"
    }
   ],
   "source": [
    "myName[-1]"
   ]
  },
  {
   "cell_type": "code",
   "execution_count": 15,
   "id": "40127a42-ffca-4d38-976c-8c75dcedcefa",
   "metadata": {},
   "outputs": [],
   "source": [
    "barcode = \"ABCDE123123982\""
   ]
  },
  {
   "cell_type": "code",
   "execution_count": 16,
   "id": "c21949ac-d2f5-4c80-a03d-48f0dfd6d304",
   "metadata": {},
   "outputs": [],
   "source": [
    "name = \"murad\""
   ]
  },
  {
   "cell_type": "code",
   "execution_count": 17,
   "id": "b04e1eb5-6ded-4e3e-be8b-1eacce2ce7db",
   "metadata": {},
   "outputs": [],
   "source": [
    "surname = \"mahmudov\""
   ]
  },
  {
   "cell_type": "code",
   "execution_count": 20,
   "id": "a2c7e9e4-c863-4a94-a2f2-1e7d7f4cb7bf",
   "metadata": {},
   "outputs": [],
   "source": [
    "fullname = name+ \" \" + surname"
   ]
  },
  {
   "cell_type": "code",
   "execution_count": 21,
   "id": "11243708-fc81-4f66-921d-377745b93ac0",
   "metadata": {},
   "outputs": [
    {
     "data": {
      "text/plain": [
       "'murad mahmudov'"
      ]
     },
     "execution_count": 21,
     "metadata": {},
     "output_type": "execute_result"
    }
   ],
   "source": [
    "fullname"
   ]
  },
  {
   "cell_type": "code",
   "execution_count": 22,
   "id": "69045579-7345-4850-b5f7-99743d9a0599",
   "metadata": {},
   "outputs": [
    {
     "data": {
      "text/plain": [
       "'murad mahmudovmurad mahmudovmurad mahmudovmurad mahmudovmurad mahmudov'"
      ]
     },
     "execution_count": 22,
     "metadata": {},
     "output_type": "execute_result"
    }
   ],
   "source": [
    "fullname * 5"
   ]
  },
  {
   "cell_type": "code",
   "execution_count": 23,
   "id": "11a97e8b-4433-49d3-bcff-3fdfab8ec06d",
   "metadata": {},
   "outputs": [
    {
     "data": {
      "text/plain": [
       "'ABCDE123123982'"
      ]
     },
     "execution_count": 23,
     "metadata": {},
     "output_type": "execute_result"
    }
   ],
   "source": [
    "barcode"
   ]
  },
  {
   "cell_type": "code",
   "execution_count": 24,
   "id": "b66be220-e99c-4b2f-b39b-50d670f98f48",
   "metadata": {},
   "outputs": [],
   "source": [
    "#slicing, starting index, stopping index, stepping size"
   ]
  },
  {
   "cell_type": "code",
   "execution_count": 25,
   "id": "bc402a3b-5918-40d4-9689-8be29ec6c7a9",
   "metadata": {},
   "outputs": [
    {
     "data": {
      "text/plain": [
       "'ABCDE123123982'"
      ]
     },
     "execution_count": 25,
     "metadata": {},
     "output_type": "execute_result"
    }
   ],
   "source": [
    "barcode"
   ]
  },
  {
   "cell_type": "code",
   "execution_count": 26,
   "id": "b338d1c7-486c-4236-a790-81fdbb3fd440",
   "metadata": {},
   "outputs": [],
   "source": [
    "#barcode[starting index:stopping index:stepping size]"
   ]
  },
  {
   "cell_type": "code",
   "execution_count": 27,
   "id": "05ffb074-214d-4d3f-9bbc-80112a737db6",
   "metadata": {},
   "outputs": [
    {
     "data": {
      "text/plain": [
       "'DE123123982'"
      ]
     },
     "execution_count": 27,
     "metadata": {},
     "output_type": "execute_result"
    }
   ],
   "source": [
    "barcode[3::]"
   ]
  },
  {
   "cell_type": "code",
   "execution_count": 28,
   "id": "dade0298-8100-41cb-8f23-5e899b8a7267",
   "metadata": {},
   "outputs": [
    {
     "data": {
      "text/plain": [
       "'ABC'"
      ]
     },
     "execution_count": 28,
     "metadata": {},
     "output_type": "execute_result"
    }
   ],
   "source": [
    "barcode[:3:]"
   ]
  },
  {
   "cell_type": "code",
   "execution_count": 29,
   "id": "470fa568-b00d-419e-b9b1-10d0ad11e655",
   "metadata": {},
   "outputs": [
    {
     "data": {
      "text/plain": [
       "'ABCDE123123982'"
      ]
     },
     "execution_count": 29,
     "metadata": {},
     "output_type": "execute_result"
    }
   ],
   "source": [
    "barcode"
   ]
  },
  {
   "cell_type": "code",
   "execution_count": 30,
   "id": "0a6526f8-5999-4c79-b8b1-add3f0473004",
   "metadata": {},
   "outputs": [
    {
     "data": {
      "text/plain": [
       "'ACE2138'"
      ]
     },
     "execution_count": 30,
     "metadata": {},
     "output_type": "execute_result"
    }
   ],
   "source": [
    "barcode[::2]"
   ]
  },
  {
   "cell_type": "code",
   "execution_count": 32,
   "id": "83eb1a36-a7f7-46d3-9478-57ba9f36e567",
   "metadata": {},
   "outputs": [
    {
     "data": {
      "text/plain": [
       "'DE'"
      ]
     },
     "execution_count": 32,
     "metadata": {},
     "output_type": "execute_result"
    }
   ],
   "source": [
    "barcode[3:5:]"
   ]
  },
  {
   "cell_type": "code",
   "execution_count": 33,
   "id": "70d5f02d-d46e-4dcd-b28e-4dd86154ad53",
   "metadata": {},
   "outputs": [
    {
     "data": {
      "text/plain": [
       "'ABCDE123123982'"
      ]
     },
     "execution_count": 33,
     "metadata": {},
     "output_type": "execute_result"
    }
   ],
   "source": [
    "barcode"
   ]
  },
  {
   "cell_type": "code",
   "execution_count": 34,
   "id": "846d0aa4-2f82-4c5f-b7ac-6157073362d4",
   "metadata": {},
   "outputs": [
    {
     "data": {
      "text/plain": [
       "'289321321EDCBA'"
      ]
     },
     "execution_count": 34,
     "metadata": {},
     "output_type": "execute_result"
    }
   ],
   "source": [
    "barcode[:: - 1]"
   ]
  },
  {
   "cell_type": "code",
   "execution_count": 35,
   "id": "6563a17e-5c67-43eb-a520-e6dc5e8ea341",
   "metadata": {},
   "outputs": [],
   "source": [
    "name = \"murad mahmudov\""
   ]
  },
  {
   "cell_type": "code",
   "execution_count": 39,
   "id": "c6bb0cde-a84b-4bb1-96b2-d1bb7af88874",
   "metadata": {},
   "outputs": [
    {
     "data": {
      "text/plain": [
       "8"
      ]
     },
     "execution_count": 39,
     "metadata": {},
     "output_type": "execute_result"
    }
   ],
   "source": [
    "name.index(\"h\")"
   ]
  },
  {
   "cell_type": "code",
   "execution_count": null,
   "id": "87df791b-fc19-4967-bd31-451ba6175a07",
   "metadata": {},
   "outputs": [],
   "source": []
  }
 ],
 "metadata": {
  "kernelspec": {
   "display_name": "Python 3 (ipykernel)",
   "language": "python",
   "name": "python3"
  },
  "language_info": {
   "codemirror_mode": {
    "name": "ipython",
    "version": 3
   },
   "file_extension": ".py",
   "mimetype": "text/x-python",
   "name": "python",
   "nbconvert_exporter": "python",
   "pygments_lexer": "ipython3",
   "version": "3.12.7"
  }
 },
 "nbformat": 4,
 "nbformat_minor": 5
}
